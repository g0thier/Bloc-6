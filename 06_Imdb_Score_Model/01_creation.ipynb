{
 "cells": [
  {
   "cell_type": "markdown",
   "metadata": {},
   "source": [
    "# From IMDB Dataset\n",
    " * [IMDb Datasets - Homepage](https://www.imdb.com/interfaces/)\n",
    " * [IMDb Datasets - Linkpage](https://datasets.imdbws.com)\n",
    "## Productors "
   ]
  },
  {
   "cell_type": "code",
   "execution_count": 8,
   "metadata": {},
   "outputs": [],
   "source": [
    "# title.basics \n",
    "#   ID Film / Movie / Title / Year / Genres \n",
    "\n",
    "# title.ratings\n",
    "#   ID Film / Note \n",
    "\n",
    "# title.crew\n",
    "#   ID Film / ID Director \n",
    "\n",
    "# name.basics\n",
    "#   ID Director / Name \n",
    "\n",
    "import pandas as pd\n",
    "import numpy as np\n",
    "import ssl\n",
    "ssl._create_default_https_context = ssl._create_unverified_context"
   ]
  },
  {
   "cell_type": "code",
   "execution_count": 9,
   "metadata": {},
   "outputs": [
    {
     "name": "stderr",
     "output_type": "stream",
     "text": [
      "/var/folders/vh/l2wksfvx397_s94nz191rypm0000gn/T/ipykernel_48923/2554974781.py:2: DtypeWarning: Columns (4) have mixed types. Specify dtype option on import or set low_memory=False.\n",
      "  title_basics = pd.read_table(link, on_bad_lines='skip')\n"
     ]
    }
   ],
   "source": [
    "link = 'https://datasets.imdbws.com/title.basics.tsv.gz'\n",
    "title_basics = pd.read_table(link, on_bad_lines='skip')\n",
    "title_basics = title_basics[title_basics['titleType'] == 'movie']\n",
    "title_basics = title_basics.drop(columns=['titleType','primaryTitle','isAdult', 'endYear','runtimeMinutes'])\n",
    "title_basics = title_basics[title_basics['originalTitle'] != r'\\N']\n",
    "title_basics = title_basics[title_basics['startYear'] != r'\\N']\n",
    "title_basics = title_basics[title_basics['genres'] != r'\\N']"
   ]
  },
  {
   "cell_type": "code",
   "execution_count": 10,
   "metadata": {},
   "outputs": [],
   "source": [
    "link = 'https://datasets.imdbws.com/title.ratings.tsv.gz'\n",
    "title_ratings = pd.read_table(link, on_bad_lines='skip')\n",
    "title_basics_ratings = pd.merge(title_basics, title_ratings, left_on='tconst', right_on='tconst')"
   ]
  },
  {
   "cell_type": "code",
   "execution_count": 11,
   "metadata": {},
   "outputs": [],
   "source": [
    "link = 'https://datasets.imdbws.com/title.crew.tsv.gz'\n",
    "title_crew = pd.read_table(link, on_bad_lines='skip')\n",
    "title_crew = title_crew.drop(columns=['writers'])\n",
    "title_basics_ratings_crew = pd.merge(title_basics_ratings, title_crew, left_on='tconst', right_on='tconst')\n",
    "title_basics_ratings_crew[\"directors\"] = [ str(x).replace(' ', '') for x in title_basics_ratings_crew[\"directors\"][:] ] \n",
    "title_basics_ratings_crew[\"directors\"] = [ x.split(\",\") for x in title_basics_ratings_crew[\"directors\"][:] ]\n",
    "title_basics_ratings_crew = title_basics_ratings_crew.explode('directors').reset_index()"
   ]
  },
  {
   "cell_type": "code",
   "execution_count": 12,
   "metadata": {},
   "outputs": [],
   "source": [
    "link = 'https://datasets.imdbws.com/name.basics.tsv.gz'\n",
    "name_basics = pd.read_table(link, on_bad_lines='skip')\n",
    "name_basics = name_basics.drop(columns=['birthYear','deathYear','primaryProfession','knownForTitles'])\n",
    "title_basics_ratings_crew_name = pd.merge(title_basics_ratings_crew, name_basics, left_on='directors', right_on='nconst')\n",
    "title_basics_ratings_crew_name = title_basics_ratings_crew_name.drop(columns=['index','directors','nconst'])\n",
    "title_basics_ratings_crew_name[\"startYear\"] = pd.to_numeric(title_basics_ratings_crew_name[\"startYear\"]).astype(int)"
   ]
  },
  {
   "cell_type": "code",
   "execution_count": 13,
   "metadata": {},
   "outputs": [
    {
     "name": "stderr",
     "output_type": "stream",
     "text": [
      "/var/folders/vh/l2wksfvx397_s94nz191rypm0000gn/T/ipykernel_48923/1728146170.py:13: SettingWithCopyWarning: \n",
      "A value is trying to be set on a copy of a slice from a DataFrame\n",
      "\n",
      "See the caveats in the documentation: https://pandas.pydata.org/pandas-docs/stable/user_guide/indexing.html#returning-a-view-versus-a-copy\n",
      "  title_basics_ratings_crew_name.imdb_search[i] = f\"{url_base}{title}&release_date={date}-01-01,{date}-12-31\"\n"
     ]
    },
    {
     "data": {
      "text/html": [
       "<div>\n",
       "<style scoped>\n",
       "    .dataframe tbody tr th:only-of-type {\n",
       "        vertical-align: middle;\n",
       "    }\n",
       "\n",
       "    .dataframe tbody tr th {\n",
       "        vertical-align: top;\n",
       "    }\n",
       "\n",
       "    .dataframe thead th {\n",
       "        text-align: right;\n",
       "    }\n",
       "</style>\n",
       "<table border=\"1\" class=\"dataframe\">\n",
       "  <thead>\n",
       "    <tr style=\"text-align: right;\">\n",
       "      <th></th>\n",
       "      <th>tconst</th>\n",
       "      <th>originalTitle</th>\n",
       "      <th>startYear</th>\n",
       "      <th>genres</th>\n",
       "      <th>averageRating</th>\n",
       "      <th>numVotes</th>\n",
       "      <th>primaryName</th>\n",
       "      <th>imdb_search</th>\n",
       "    </tr>\n",
       "  </thead>\n",
       "  <tbody>\n",
       "    <tr>\n",
       "      <th>0</th>\n",
       "      <td>tt0000009</td>\n",
       "      <td>Miss Jerry</td>\n",
       "      <td>1894</td>\n",
       "      <td>Romance</td>\n",
       "      <td>5.2</td>\n",
       "      <td>200</td>\n",
       "      <td>Alexander Black</td>\n",
       "      <td>https://www.imdb.com/search/title/?title=Miss+...</td>\n",
       "    </tr>\n",
       "    <tr>\n",
       "      <th>1</th>\n",
       "      <td>tt0000574</td>\n",
       "      <td>The Story of the Kelly Gang</td>\n",
       "      <td>1906</td>\n",
       "      <td>Action,Adventure,Biography</td>\n",
       "      <td>6.0</td>\n",
       "      <td>784</td>\n",
       "      <td>Charles Tait</td>\n",
       "      <td>https://www.imdb.com/search/title/?title=The+S...</td>\n",
       "    </tr>\n",
       "    <tr>\n",
       "      <th>2</th>\n",
       "      <td>tt0000591</td>\n",
       "      <td>L'enfant prodigue</td>\n",
       "      <td>1907</td>\n",
       "      <td>Drama</td>\n",
       "      <td>4.0</td>\n",
       "      <td>19</td>\n",
       "      <td>Michel Carré</td>\n",
       "      <td>https://www.imdb.com/search/title/?title=L%27e...</td>\n",
       "    </tr>\n",
       "    <tr>\n",
       "      <th>3</th>\n",
       "      <td>tt0000615</td>\n",
       "      <td>Robbery Under Arms</td>\n",
       "      <td>1907</td>\n",
       "      <td>Drama</td>\n",
       "      <td>4.1</td>\n",
       "      <td>23</td>\n",
       "      <td>Charles MacMahon</td>\n",
       "      <td>https://www.imdb.com/search/title/?title=Robbe...</td>\n",
       "    </tr>\n",
       "    <tr>\n",
       "      <th>4</th>\n",
       "      <td>tt0000630</td>\n",
       "      <td>Amleto</td>\n",
       "      <td>1908</td>\n",
       "      <td>Drama</td>\n",
       "      <td>2.9</td>\n",
       "      <td>25</td>\n",
       "      <td>Mario Caserini</td>\n",
       "      <td>https://www.imdb.com/search/title/?title=Amlet...</td>\n",
       "    </tr>\n",
       "  </tbody>\n",
       "</table>\n",
       "</div>"
      ],
      "text/plain": [
       "      tconst                originalTitle  startYear  \\\n",
       "0  tt0000009                   Miss Jerry       1894   \n",
       "1  tt0000574  The Story of the Kelly Gang       1906   \n",
       "2  tt0000591            L'enfant prodigue       1907   \n",
       "3  tt0000615           Robbery Under Arms       1907   \n",
       "4  tt0000630                       Amleto       1908   \n",
       "\n",
       "                       genres  averageRating  numVotes       primaryName  \\\n",
       "0                     Romance            5.2       200   Alexander Black   \n",
       "1  Action,Adventure,Biography            6.0       784      Charles Tait   \n",
       "2                       Drama            4.0        19      Michel Carré   \n",
       "3                       Drama            4.1        23  Charles MacMahon   \n",
       "4                       Drama            2.9        25    Mario Caserini   \n",
       "\n",
       "                                         imdb_search  \n",
       "0  https://www.imdb.com/search/title/?title=Miss+...  \n",
       "1  https://www.imdb.com/search/title/?title=The+S...  \n",
       "2  https://www.imdb.com/search/title/?title=L%27e...  \n",
       "3  https://www.imdb.com/search/title/?title=Robbe...  \n",
       "4  https://www.imdb.com/search/title/?title=Amlet...  "
      ]
     },
     "execution_count": 13,
     "metadata": {},
     "output_type": "execute_result"
    }
   ],
   "source": [
    "import urllib.parse\n",
    "# https://www.imdb.com/search/title/?title=TOUT+S%27EST+BIEN+PASSE&release_date=2015-01-01,2022-12-31\n",
    "\n",
    "url_base = 'https://www.imdb.com/search/title/?title='\n",
    "\n",
    "title_basics_ratings_crew_name['imdb_search'] = ''\n",
    "\n",
    "for i in range( len(title_basics_ratings_crew_name) ):\n",
    "\n",
    "    title = urllib.parse.quote(title_basics_ratings_crew_name.iloc[i]['originalTitle']).replace('%20', '+')\n",
    "    date = str(title_basics_ratings_crew_name.iloc[i]['startYear'])\n",
    "\n",
    "    title_basics_ratings_crew_name.imdb_search[i] = f\"{url_base}{title}&release_date={date}-01-01,{date}-12-31\"\n",
    "    \n",
    "title_basics_ratings_crew_name.head()"
   ]
  },
  {
   "cell_type": "code",
   "execution_count": 14,
   "metadata": {},
   "outputs": [],
   "source": [
    "title_basics_ratings_crew_name.to_csv(r'src/dataset_without_resume.csv', index = False, header=True)"
   ]
  }
 ],
 "metadata": {
  "kernelspec": {
   "display_name": "Python 3.9.5 64-bit",
   "language": "python",
   "name": "python3"
  },
  "language_info": {
   "codemirror_mode": {
    "name": "ipython",
    "version": 3
   },
   "file_extension": ".py",
   "mimetype": "text/x-python",
   "name": "python",
   "nbconvert_exporter": "python",
   "pygments_lexer": "ipython3",
   "version": "3.9.5"
  },
  "orig_nbformat": 4,
  "vscode": {
   "interpreter": {
    "hash": "7812ea015bdcee6f23a998adcdd2ef97c151c0c241b7b7070987d9313e41299d"
   }
  }
 },
 "nbformat": 4,
 "nbformat_minor": 2
}
